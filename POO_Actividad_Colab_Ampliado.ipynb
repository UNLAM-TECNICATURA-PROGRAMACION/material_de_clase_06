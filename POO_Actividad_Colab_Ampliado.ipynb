{
  "cells": [
    {
      "cell_type": "markdown",
      "metadata": {
        "id": "view-in-github",
        "colab_type": "text"
      },
      "source": [
        "<a href=\"https://colab.research.google.com/github/UNLAM-TECNICATURA-PROGRAMACION/material_de_clase_06/blob/main/POO_Actividad_Colab_Ampliado.ipynb\" target=\"_parent\"><img src=\"https://colab.research.google.com/assets/colab-badge.svg\" alt=\"Open In Colab\"/></a>"
      ]
    },
    {
      "cell_type": "markdown",
      "id": "cd01242a",
      "metadata": {
        "id": "cd01242a"
      },
      "source": [
        "# Programación Orientada a Objetos en Python\n",
        "## Herencia, Polimorfismo, Encapsulamiento, Excepciones y Paquetes"
      ]
    },
    {
      "cell_type": "markdown",
      "id": "4d7e35d0",
      "metadata": {
        "id": "4d7e35d0"
      },
      "source": [
        "En esta actividad vamos a trabajar conceptos fundamentales de la Programación Orientada a Objetos (POO) en Python mediante la construcción de un pequeño sistema para un juego."
      ]
    },
    {
      "cell_type": "markdown",
      "id": "810ebe10",
      "metadata": {
        "id": "810ebe10"
      },
      "source": [
        "### Ejemplo Guiado: Sistema de Personajes"
      ]
    },
    {
      "cell_type": "code",
      "execution_count": null,
      "id": "abb01b17",
      "metadata": {
        "id": "abb01b17"
      },
      "outputs": [],
      "source": [
        "class Personaje:\n",
        "    def __init__(self, nombre, salud):\n",
        "        self._nombre = nombre\n",
        "        self._salud = salud\n",
        "\n",
        "    def atacar(self):\n",
        "        return f\"{self._nombre} ataca con un golpe básico.\"\n",
        "\n",
        "    def recibir_daño(self, daño):\n",
        "        self._salud -= daño\n",
        "        print(f\"{self._nombre} recibe {daño} de daño. Salud restante: {self._salud}\")\n",
        "\n",
        "class Mago(Personaje):\n",
        "    def __init__(self, nombre, salud, mana):\n",
        "        super().__init__(nombre, salud)\n",
        "        self._mana = mana\n",
        "\n",
        "    def atacar(self):\n",
        "        return f\"{self._nombre} lanza una bola de fuego.\"\n",
        "\n",
        "class Guerrero(Personaje):\n",
        "    def atacar(self):\n",
        "        return f\"{self._nombre} golpea con su espada.\"\n",
        "\n",
        "# Prueba\n",
        "personajes = [\n",
        "    Mago(\"Gandalf\", 100, 200),\n",
        "    Guerrero(\"Aragorn\", 150)\n",
        "]\n",
        "\n",
        "for p in personajes:\n",
        "    print(p.atacar())"
      ]
    },
    {
      "cell_type": "markdown",
      "id": "99fa16f0",
      "metadata": {
        "id": "99fa16f0"
      },
      "source": [
        "### Ejercicios Prácticos"
      ]
    },
    {
      "cell_type": "markdown",
      "id": "93850368",
      "metadata": {
        "id": "93850368"
      },
      "source": [
        "**Ejercicio 1:**  \n",
        "Agregar una clase `Arquero` que herede de `Personaje` y sobreescriba el método `atacar`.\n",
        "\n",
        "**Ejercicio 2:**  \n",
        "Modificar la clase `Personaje` para que incluya un método `mostrar_estado()` que muestre el nombre y la salud. Usar encapsulamiento.\n",
        "\n",
        "**Ejercicio 3:**  \n",
        "Crear una función `simular_batalla(personaje1, personaje2)` que los haga atacar y recibir daño mutuamente.\n"
      ]
    },
    {
      "cell_type": "markdown",
      "id": "615ca194",
      "metadata": {
        "id": "615ca194"
      },
      "source": [
        "### Manejo de Excepciones"
      ]
    },
    {
      "cell_type": "code",
      "execution_count": null,
      "id": "7a51a544",
      "metadata": {
        "id": "7a51a544"
      },
      "outputs": [],
      "source": [
        "class SaludNegativaError(Exception):\n",
        "    pass\n",
        "\n",
        "# Modifica el método recibir_daño para lanzar esta excepción si la salud es menor a 0.\n",
        "# La clase Exception es de python\n"
      ]
    },
    {
      "cell_type": "markdown",
      "id": "10fa2a97",
      "metadata": {
        "id": "10fa2a97"
      },
      "source": [
        "### Organización en Paquetes (Simulado en Colab)"
      ]
    },
    {
      "cell_type": "markdown",
      "id": "d366a2a1",
      "metadata": {
        "id": "d366a2a1"
      },
      "source": [
        "**Archivos sugeridos:**\n",
        "\n",
        "- `personaje.py`: clase base y subclases\n",
        "- `batalla.py`: lógica de combate\n",
        "- `errores.py`: excepción personalizada\n"
      ]
    },
    {
      "cell_type": "markdown",
      "id": "bf9d73e9",
      "metadata": {
        "id": "bf9d73e9"
      },
      "source": [
        "### Desafíos Finales"
      ]
    },
    {
      "cell_type": "markdown",
      "id": "5b78cbee",
      "metadata": {
        "id": "5b78cbee"
      },
      "source": [
        "**Desafío 1:**  \n",
        "Crear un sistema de batalla por turnos con tres personajes y turnos aleatorios.\n",
        "\n",
        "**Desafío 2:**  \n",
        "Agregar experiencia a los personajes y subir de nivel automáticamente.\n",
        "\n",
        "**Desafío 3:**  \n",
        "Usar `@property` y setters para controlar el acceso a `salud` y `mana`.\n"
      ]
    },
    {
      "cell_type": "markdown",
      "id": "c99e43c7",
      "metadata": {
        "id": "c99e43c7"
      },
      "source": [
        "### Ejercicios Adicionales"
      ]
    },
    {
      "cell_type": "markdown",
      "id": "2685d2b2",
      "metadata": {
        "id": "2685d2b2"
      },
      "source": [
        "**Ejercicio 4:**  \n",
        "Implementar un método `curar(cantidad)` en la clase `Personaje` que permita recuperar salud, pero que no exceda un valor máximo (por ejemplo, 100). Usa encapsulamiento para controlar este límite.\n",
        "\n",
        "**Ejercicio 5:**  \n",
        "Modificar la clase `Mago` para que el ataque consuma `mana`, y lanzar una excepción si no tiene suficiente. Crear una excepción personalizada llamada `ManaInsuficienteError`.\n",
        "\n",
        "**Ejercicio 6:**  \n",
        "Agregar una clase `Hechicero` que herede de `Mago` y sobreescriba el ataque para lanzar un hechizo diferente. Utilizar `super()` en algún método para reutilizar lógica.\n",
        "\n",
        "**Ejercicio 7:**  \n",
        "Crear una clase `Inventario` que se pueda agregar a cada personaje, donde pueda guardar objetos como pociones. Agregar métodos para agregar, quitar y mostrar objetos.\n"
      ]
    },
    {
      "cell_type": "markdown",
      "id": "ee48b41e",
      "metadata": {
        "id": "ee48b41e"
      },
      "source": [
        "### Desafíos Adicionales"
      ]
    },
    {
      "cell_type": "markdown",
      "id": "18d313c5",
      "metadata": {
        "id": "18d313c5"
      },
      "source": [
        "**Desafío 4:**  \n",
        "Simular una pequeña partida entre 2 personajes con un sistema de turnos automáticos, consumiendo maná, atacando y curando según ciertas probabilidades.\n",
        "\n",
        "**Desafío 5:**  \n",
        "Crear una interfaz de texto que le permita al usuario elegir personajes y realizar acciones de forma interactiva (con `input()`).\n",
        "\n",
        "**Desafío 6:**  \n",
        "Agregar un sistema de log que guarde todas las acciones (ataques, curaciones, errores) en un archivo de texto o en una lista para luego revisarlas.\n",
        "\n",
        "**Desafío 7:**  \n",
        "Diseñar y usar una jerarquía de enemigos (por ejemplo: `Enemigo`, `Orco`, `Troll`, `Dragón`) con diferentes niveles de dificultad y comportamiento especial (por ejemplo, un `Troll` se regenera, un `Dragón` puede atacar a todos a la vez).\n"
      ]
    }
  ],
  "metadata": {
    "kernelspec": {
      "display_name": "Python 3",
      "language": "python",
      "name": "python3"
    },
    "colab": {
      "provenance": [],
      "include_colab_link": true
    }
  },
  "nbformat": 4,
  "nbformat_minor": 5
}